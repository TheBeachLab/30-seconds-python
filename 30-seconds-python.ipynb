{
 "cells": [
  {
   "cell_type": "markdown",
   "metadata": {},
   "source": [
    "# 100+ short Python programming exercises\n",
    "\n",
    "Jupyter notebook inspired by [Python-programming-exercises](https://github.com/zhiwehu/Python-programming-exercises) and [30-seconds-python](https://github.com/kriadmin/30-seconds-of-python-code). A repository created to keep track new things I learn about Python 3.\n",
    "\n",
    "---\n",
    "\n",
    "## Exercise 1\n",
    "\n",
    "tags: `arithmetics` `lists` `python3` `tested`\n",
    "\n",
    "### Question\n",
    "\n",
    "Write a program which will find all such numbers which are divisible by 7 but are not a multiple of 5,\n",
    "between 2000 and 3200 (both included).\n",
    "The numbers obtained should be printed in a comma-separated sequence on a single line.\n",
    "\n",
    "### Hints\n",
    "\n",
    "Consider use `range()` function\n",
    "\n",
    "### Solution"
   ]
  },
  {
   "cell_type": "code",
   "execution_count": 4,
   "metadata": {},
   "outputs": [
    {
     "name": "stdout",
     "output_type": "stream",
     "text": [
      "The list looks like this:\n",
      "['2002', '2009', '2016', '2023', '2037', '2044', '2051', '2058', '2072', '2079', '2086', '2093', '2107', '2114', '2121', '2128', '2142', '2149', '2156', '2163', '2177', '2184', '2191', '2198', '2212', '2219', '2226', '2233', '2247', '2254', '2261', '2268', '2282', '2289', '2296', '2303', '2317', '2324', '2331', '2338', '2352', '2359', '2366', '2373', '2387', '2394', '2401', '2408', '2422', '2429', '2436', '2443', '2457', '2464', '2471', '2478', '2492', '2499', '2506', '2513', '2527', '2534', '2541', '2548', '2562', '2569', '2576', '2583', '2597', '2604', '2611', '2618', '2632', '2639', '2646', '2653', '2667', '2674', '2681', '2688', '2702', '2709', '2716', '2723', '2737', '2744', '2751', '2758', '2772', '2779', '2786', '2793', '2807', '2814', '2821', '2828', '2842', '2849', '2856', '2863', '2877', '2884', '2891', '2898', '2912', '2919', '2926', '2933', '2947', '2954', '2961', '2968', '2982', '2989', '2996', '3003', '3017', '3024', '3031', '3038', '3052', '3059', '3066', '3073', '3087', '3094', '3101', '3108', '3122', '3129', '3136', '3143', '3157', '3164', '3171', '3178', '3192', '3199']\n",
      "\n",
      "And the solution is:\n",
      "2002,2009,2016,2023,2037,2044,2051,2058,2072,2079,2086,2093,2107,2114,2121,2128,2142,2149,2156,2163,2177,2184,2191,2198,2212,2219,2226,2233,2247,2254,2261,2268,2282,2289,2296,2303,2317,2324,2331,2338,2352,2359,2366,2373,2387,2394,2401,2408,2422,2429,2436,2443,2457,2464,2471,2478,2492,2499,2506,2513,2527,2534,2541,2548,2562,2569,2576,2583,2597,2604,2611,2618,2632,2639,2646,2653,2667,2674,2681,2688,2702,2709,2716,2723,2737,2744,2751,2758,2772,2779,2786,2793,2807,2814,2821,2828,2842,2849,2856,2863,2877,2884,2891,2898,2912,2919,2926,2933,2947,2954,2961,2968,2982,2989,2996,3003,3017,3024,3031,3038,3052,3059,3066,3073,3087,3094,3101,3108,3122,3129,3136,3143,3157,3164,3171,3178,3192,3199\n"
     ]
    }
   ],
   "source": [
    "l=[]\n",
    "for i in range(2000, 3201):\n",
    "    if (i%7==0) and (i%5!=0):\n",
    "        l.append(str(i))\n",
    "\n",
    "s = ',' # separator\n",
    "print(\"The list looks like this:\")\n",
    "print(l)\n",
    "print(\"\\nAnd the solution is:\")\n",
    "print (str.join(s,l))"
   ]
  },
  {
   "cell_type": "markdown",
   "metadata": {},
   "source": [
    "### Explanation\n",
    "\n",
    "* `%7` is the residue of the division by 7. If the residue is 0 it means it is multiple of 7, or divisible by 7\n",
    "* The `range()` function must reach be 3201 because it will reach until 3201-1 = 3200\n",
    "* `.append(x)` method will add x to the list\n",
    "* Items in the list are converted to strings because the `.join()` method can only joins strings\n",
    "\n",
    "---\n",
    "\n",
    "## Exercise 2\n",
    "\n",
    "tags: `arithmetics` `input`\n",
    "\n",
    "### Question\n",
    "\n",
    "Write a program which can compute the factorial of a given number.\n",
    "\n",
    "### Hints\n",
    "\n",
    "Create a recursive function.\n",
    "\n",
    "### Solution"
   ]
  },
  {
   "cell_type": "code",
   "execution_count": 23,
   "metadata": {
    "scrolled": false
   },
   "outputs": [
    {
     "name": "stdout",
     "output_type": "stream",
     "text": [
      "Enter an integer non-negative number: 4\n",
      "Answer: 4! is 24\n"
     ]
    }
   ],
   "source": [
    "def fact(x):\n",
    "    if x == 0: # 0! = 1\n",
    "        return 1\n",
    "    return x * fact(x - 1)\n",
    "\n",
    "x=int(input('Enter an integer non-negative number: '))\n",
    "print(f'Answer: {x}! is {fact(x)}')"
   ]
  },
  {
   "cell_type": "markdown",
   "metadata": {},
   "source": [
    "## Exercise 3\n",
    "\n",
    "tags: `dictionary`\n",
    "\n",
    "### Question\n",
    "\n",
    "With a given integer number `n`, write a program to generate a dictionary that contains `(i, i*i)` such that is an integer number between 1 and n (both included). and then the program should print the dictionary.\n",
    "Suppose the following input is supplied to the program:\n",
    "`8`\n",
    "Then, the output should be:\n",
    "`{1: 1, 2: 4, 3: 9, 4: 16, 5: 25, 6: 36, 7: 49, 8: 64}`\n",
    "\n",
    "### Hints\n",
    "\n",
    "In case of input data being supplied to the question, it should be assumed to be a console input.\n",
    "Consider use `dict()`\n",
    "\n",
    "### Solution"
   ]
  },
  {
   "cell_type": "code",
   "execution_count": null,
   "metadata": {},
   "outputs": [],
   "source": [
    "n=0\n",
    "while n<1:\n",
    "    n=int(input('Enter an integer number: '))\n",
    "d=dict() # create and empty dictionary\n",
    "for i in range(1,n+1):\n",
    "    d[i]=i*i # populate the i key with the i*i value\n",
    "\n",
    "print (f'The dictionary is {d}')"
   ]
  },
  {
   "cell_type": "markdown",
   "metadata": {},
   "source": [
    "## Exercise 4\n",
    "\n",
    "tags: `lists` `tuples`\n",
    "\n",
    "### Question\n",
    "\n",
    "Write a program which accepts a sequence of comma-separated numbers from console and generate a list and a tuple which contains every number.\n",
    "Suppose the following input is supplied to the program:\n",
    "`34,67,55,33,12,98`\n",
    "Then, the output should be:\n",
    "```\n",
    "['34', '67', '55', '33', '12', '98']\n",
    "('34', '67', '55', '33', '12', '98')\n",
    "```\n",
    "\n",
    "### Hints\n",
    "\n",
    "In case of input data being supplied to the question, it should be assumed to be a console input.\n",
    "tuple() can convert list to tuple\n",
    "\n",
    "### Solution"
   ]
  },
  {
   "cell_type": "code",
   "execution_count": 27,
   "metadata": {},
   "outputs": [
    {
     "name": "stdout",
     "output_type": "stream",
     "text": [
      "Enter some comma-separated numbers: 45,454,4454,45454,\n",
      "This is the list ['45', '454', '4454', '45454', '']\n",
      "And this is the tuple ('45', '454', '4454', '45454', '')\n"
     ]
    }
   ],
   "source": [
    "values=input('Enter some comma-separated numbers: ') # values is a string\n",
    "l=values.split(\",\") # create a list by spliting the string at the commas\n",
    "t=tuple(l) # create the tuple from the list\n",
    "\n",
    "print (f'This is the list {l}')\n",
    "print (f'And this is the tuple {t}')"
   ]
  }
 ],
 "metadata": {
  "kernelspec": {
   "display_name": "Python 3",
   "language": "python",
   "name": "python3"
  },
  "language_info": {
   "codemirror_mode": {
    "name": "ipython",
    "version": 3
   },
   "file_extension": ".py",
   "mimetype": "text/x-python",
   "name": "python",
   "nbconvert_exporter": "python",
   "pygments_lexer": "ipython3",
   "version": "3.7.2"
  }
 },
 "nbformat": 4,
 "nbformat_minor": 2
}
